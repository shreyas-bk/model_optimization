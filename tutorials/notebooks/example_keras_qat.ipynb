{
 "cells": [
  {
   "cell_type": "markdown",
   "id": "09f31596-c293-4faa-8253-336769f8faa5",
   "metadata": {
    "tags": []
   },
   "source": [
    "# Quantization Aware Training using the Model Compression Toolkit - example in Keras\n"
   ]
  },
  {
   "cell_type": "markdown",
   "id": "af1a972f-01a5-4b56-8ce7-ecfdb6daf942",
   "metadata": {},
   "source": [
    "## Overview\n",
    "This tutorial will show how to use the Quantization Aware Training API of the Model Compression Toolkit. We will train a model on the MNIST dataset and quantize it with the Model Compression Toolkit QAT API.\n",
    "[Run this tutorial in Google Colab](https://colab.research.google.com/github/sony/model_optimization/blob/main/tutorials/example_keras_qat.ipynb)"
   ]
  },
  {
   "cell_type": "markdown",
   "id": "80481dd9-1e3c-4677-9d94-33f144ec540c",
   "metadata": {},
   "source": [
    "## Setup\n",
    "Install relevant packages"
   ]
  },
  {
   "cell_type": "code",
   "execution_count": 4,
   "id": "b380c492-3c53-4ec1-987e-de693a1ec1d9",
   "metadata": {},
   "outputs": [],
   "source": [
    "! pip install -q tensorflow==2.10.1\n",
	"! pip install -q tensorflow-model-optimization\n",
    "! pip install -q model-compression-toolkit "
   ]
  },
  {
   "cell_type": "code",
   "execution_count": 5,
   "id": "d49c27b1-65f9-4fd3-be3e-733f4c60124a",
   "metadata": {},
   "outputs": [],
   "source": [
    "import tensorflow as tf\n",
    "from keras.datasets import mnist\n",
    "from keras import Model, layers, datasets\n",
    "import model_compression_toolkit as mct\n",
    "import numpy as np\n"
   ]
  },
  {
   "cell_type": "markdown",
   "id": "fcc817e1-5c21-4283-8ec8-8c2aff5feeea",
   "metadata": {},
   "source": [
    "## Init TargetPlatformModel\n",
    "Setting a TP Model with quantization of 2 bits for weights and 3 bits for activations."
   ]
  },
  {
   "cell_type": "code",
   "execution_count": null,
   "id": "8bb6f84b-9775-4989-9f74-688958f3a1d3",
   "metadata": {},
   "outputs": [],
   "source": [
    "def get_tpc():\n",
    "    # Generate a TargetPlatformCapabilities with power of two quantization, 3 bits for\n",
    "    # activations and 2 bits for weights\n",
    "    tp = mct.target_platform\n",
    "    default_config = tp.OpQuantizationConfig(\n",
    "        activation_quantization_method=tp.QuantizationMethod.POWER_OF_TWO,\n",
    "        weights_quantization_method=tp.QuantizationMethod.POWER_OF_TWO,\n",
    "        activation_n_bits=3,\n",
    "        weights_n_bits=2,\n",
    "        weights_per_channel_threshold=True,\n",
    "        enable_weights_quantization=True,\n",
    "        enable_activation_quantization=True,\n",
    "        quantization_preserving=False,\n",
    "        fixed_scale=1.0,\n",
    "        fixed_zero_point=0,\n",
    "        weights_multiplier_nbits=0)\n",
    "\n",
    "    default_configuration_options = tp.QuantizationConfigOptions([default_config])\n",
    "    tp_model = tp.TargetPlatformModel(default_configuration_options)\n",
    "    with tp_model:\n",
    "        tp.OperatorsSet(\"NoQuantization\",\n",
    "                        tp.get_default_quantization_config_options().clone_and_edit(\n",
    "                            enable_weights_quantization=False,\n",
    "                            enable_activation_quantization=False))\n",
    "\n",
    "    tpc = tp.TargetPlatformCapabilities(tp_model)\n",
    "    with tpc:\n",
    "        # No need to quantize Flatten and Dropout layers\n",
    "        tp.OperationsSetToLayers(\"NoQuantization\", [layers.Flatten,\n",
    "                                                    layers.Dropout])\n",
    "\n",
    "    return tpc\n"
   ]
  },
  {
   "cell_type": "markdown",
   "id": "bf7c811e-cba8-44f3-888f-e7452a68087d",
   "metadata": {},
   "source": [
    "## Init Keras model"
   ]
  },
  {
   "cell_type": "code",
   "execution_count": null,
   "id": "690ff5ae-4474-4876-835f-ab2a2bbcb139",
   "metadata": {},
   "outputs": [],
   "source": [
    "num_classes = 10\n",
    "input_shape = (28, 28, 1)\n",
    "\n",
    "_input = layers.Input(shape=input_shape)\n",
    "x = layers.Conv2D(16, 3, strides=2, padding='same', activation='relu')(_input)\n",
    "x = layers.Conv2D(32, 3, strides=2, padding='same', activation='relu')(x)\n",
    "x = layers.Flatten()(x)\n",
    "x = layers.Dropout(0.5)(x)\n",
    "x = layers.Dense(128, activation='relu')(x)\n",
    "x = layers.Dropout(0.5)(x)\n",
    "x = layers.Dense(num_classes, activation='softmax')(x)\n",
    "model = Model(inputs=_input, outputs=x)\n",
    "\n",
    "model.summary()"
   ]
  },
  {
   "cell_type": "markdown",
   "id": "7094f140-f86a-4d76-9042-83a0c99a796e",
   "metadata": {},
   "source": [
    "## Init MNIST dataset"
   ]
  },
  {
   "cell_type": "code",
   "execution_count": null,
   "id": "464f2afd-0e80-4a80-86dd-1a26c7d3ea6a",
   "metadata": {},
   "outputs": [],
   "source": [
    "# Load the data and split it between train and test sets\n",
    "(x_train, y_train), (x_test, y_test) = datasets.mnist.load_data()\n",
    "\n",
    "# Normalize images\n",
    "x_train = x_train.astype(\"float32\") / 255\n",
    "x_test = x_test.astype(\"float32\") / 255\n",
    "\n",
    "# Add Channels axis to data\n",
    "x_train = np.expand_dims(x_train, -1)\n",
    "x_test = np.expand_dims(x_test, -1)\n",
    "\n",
    "# convert class vectors to binary class matrices\n",
    "y_train = tf.keras.utils.to_categorical(y_train, num_classes)\n",
    "y_test = tf.keras.utils.to_categorical(y_test, num_classes)\n"
   ]
  },
  {
   "cell_type": "markdown",
   "id": "b00ab0db-ec7d-4d55-9c52-3440289e4ae1",
   "metadata": {},
   "source": [
    "## Train a Keras classifier model on MNIST"
   ]
  },
  {
   "cell_type": "code",
   "execution_count": null,
   "id": "2a75d82e-e2a0-4204-a4b5-31263bc4b117",
   "metadata": {},
   "outputs": [],
   "source": [
    "# train float model\n",
    "batch_size = 128\n",
    "epochs = 15\n",
    "\n",
    "model.compile(loss=\"categorical_crossentropy\", optimizer=\"adam\", metrics=[\"accuracy\"])\n",
    "model.fit(x_train, y_train, batch_size=batch_size, epochs=epochs, validation_split=0.2)\n",
    "\n",
    "# evaluate float model\n",
    "score = model.evaluate(x_test, y_test, verbose=0)\n",
    "print(f\"Float model test accuracy: {score[1]:02.4f}\")\n"
   ]
  },
  {
   "cell_type": "markdown",
   "id": "6fd0d525-4bc1-4958-ac67-d114bd25a001",
   "metadata": {},
   "source": [
    "## Prepare model for Hardware-Friendly Quantization Aware Training with MCT\n",
    "The MCT takes the float model and quantizes it in a post-training quantization fashion. Then returns a QAT ready model to the user for Quantization Aware Training."
   ]
  },
  {
   "cell_type": "code",
   "execution_count": null,
   "id": "2c171d2d-6f0d-474d-aab6-22b0b0c9e71e",
   "metadata": {},
   "outputs": [],
   "source": [
    "n_iter = 10\n",
    "\n",
    "\n",
    "def gen_representative_dataset():\n",
    "    def _generator():\n",
    "        for _ind in range(n_iter):\n",
    "            yield [x_train[_ind][np.newaxis, ...]]\n",
    "    return _generator\n",
    "\n",
    "\n",
    "qat_model, _, custom_objects = mct.qat.keras_quantization_aware_training_init(model,\n",
    "                                                                              gen_representative_dataset(),\n",
    "                                                                              core_config=mct.core.CoreConfig(),\n",
    "                                                                              target_platform_capabilities=get_tpc())\n",
    "\n",
    "qat_model.compile(loss=\"categorical_crossentropy\", optimizer=\"adam\", metrics=[\"accuracy\"], run_eagerly=True)\n",
    "score = qat_model.evaluate(x_test, y_test, verbose=0)\n",
    "print(f\"PTQ model test accuracy: {score[1]:02.4f}\")"
   ]
  },
  {
   "cell_type": "markdown",
   "id": "78c74675-b4b5-42bd-a0b7-75da240cbf66",
   "metadata": {},
   "source": [
    "## User Quantization Aware Training"
   ]
  },
  {
   "cell_type": "code",
   "execution_count": null,
   "id": "cc3f1d23-9610-415a-84c2-8ef953370574",
   "metadata": {},
   "outputs": [],
   "source": [
    "qat_model.fit(x_train, y_train, batch_size=batch_size, epochs=epochs, validation_split=0.2)\n",
    "\n",
    "score = qat_model.evaluate(x_test, y_test, verbose=0)\n",
    "print(f\"QAT model test accuracy: {score[1]:02.4f}\")\n"
   ]
  },
  {
   "cell_type": "code",
   "execution_count": null,
   "id": "94058416-77f3-4930-8090-a50ab5528cf2",
   "metadata": {},
   "outputs": [],
   "source": [
    "## Finalize QAT model: Remove QuantizeQrapper layers and leave only layers with quantized weights (FakeQuant values)\n",
   ]
  },
  {
   "cell_type": "code",
   "execution_count": null,
   "id": "856de5a6-29d6-4e65-80b1-9f11ed63ab61",
   "metadata": {},
   "outputs": [],
   "source": [
    "quantized_model = mct.qat.keras_quantization_aware_training_finalize(qat_model)\n",
    "\n",
    "quantized_model.compile(loss=\"categorical_crossentropy\", optimizer=\"adam\", metrics=[\"accuracy\"])\n",
    "score = quantized_model.evaluate(x_test, y_test, verbose=0)\n",
    "print(f\"Quantized model test accuracy: {score[1]:02.4f}\")"
   ]
  },
  {
   "cell_type": "markdown",
   "id": "db77d678-1fa7-4dc0-a6f3-bac10ba2d8ed",
   "metadata": {},
   "source": [
    "Copyright 2022 Sony Semiconductor Israel, Inc. All rights reserved.\n",
    "\n",
    "Licensed under the Apache License, Version 2.0 (the \"License\");\n",
    "you may not use this file except in compliance with the License.\n",
    "You may obtain a copy of the License at\n",
    "\n",
    "    http://www.apache.org/licenses/LICENSE-2.0\n",
    "\n",
    "Unless required by applicable law or agreed to in writing, software\n",
    "distributed under the License is distributed on an \"AS IS\" BASIS,\n",
    "WITHOUT WARRANTIES OR CONDITIONS OF ANY KIND, either express or implied.\n",
    "See the License for the specific language governing permissions and\n",
    "limitations under the License."
   ]
  }
 ],
 "metadata": {
  "kernelspec": {
   "display_name": "Python 3 (ipykernel)",
   "language": "python",
   "name": "python3"
  },
  "language_info": {
   "codemirror_mode": {
    "name": "ipython",
    "version": 3
   },
   "file_extension": ".py",
   "mimetype": "text/x-python",
   "name": "python",
   "nbconvert_exporter": "python",
   "pygments_lexer": "ipython3",
   "version": "3.8.13"
  }
 },
 "nbformat": 4,
 "nbformat_minor": 5
}
